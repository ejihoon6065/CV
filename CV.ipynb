{
 "cells": [
  {
   "cell_type": "code",
   "execution_count": 2,
   "metadata": {},
   "outputs": [
    {
     "name": "stdout",
     "output_type": "stream",
     "text": [
      "Hello OpenCV 4.3.0\n"
     ]
    }
   ],
   "source": [
    "import cv2\n",
    "print('Hello OpenCV', cv2.__version__)"
   ]
  },
  {
   "cell_type": "code",
   "execution_count": 9,
   "metadata": {},
   "outputs": [],
   "source": [
    "import sys\n",
    "\n",
    "img = cv2.imread('cat.jpg', flags = cv2.IMREAD_GRAYSCALE)\n",
    "########### img = cv2.imread('cat.jpg', flags = cv2.IMREAD_GRAYSCALE) -> retval ############\n",
    "\n",
    "#cv2.imread(filename, flasgs=None) ; filename: 불러올 영상파일 이름, 상대경로, 절대경로\n",
    "#flags:영상파일 불러오기 옵션 플래그\n",
    "#cv2.IMREAD_COLOR : BGR컬러 영상으로 읽기, Shape, dtype\n",
    "#cv2.IMREAD_GRAYSCALE : 그레이스케일 영상으로 읽기, Shape, dtype\n",
    "#cv2.IMREAD_UNCHANGED : 영상파일 속성 그대로 읽기, 투명한 PNG파일 : shape\n",
    "\n",
    "#retval : 불러온 영상 데이터(Numpy.ndarray)\n"
   ]
  },
  {
   "cell_type": "code",
   "execution_count": 10,
   "metadata": {},
   "outputs": [],
   "source": [
    "if img is None:\n",
    "    print('Image load failed!')\n",
    "    sys.exit()\n",
    "\n",
    "\n",
    "cv2.namedWindow('image')\n",
    "cv2.imshow('image', img)\n",
    "cv2.waitKey()\n",
    "\n",
    "cv2.destroyAllWindows()"
   ]
  },
  {
   "cell_type": "code",
   "execution_count": 11,
   "metadata": {},
   "outputs": [
    {
     "data": {
      "text/plain": [
       "True"
      ]
     },
     "execution_count": 11,
     "metadata": {},
     "output_type": "execute_result"
    }
   ],
   "source": [
    "############영상파일 저장하기 ###########\n",
    "\n",
    "cv2.imwrite('cat33.jpg', img, params=None)\n",
    "# filename : 저장할 영상 파일 이름(문자열)\n",
    "# img : 저장할 영상 데이터(numpy.ndarray)\n",
    "# params : 파일 저장 옵션 지정(속성 & 값의 정수 쌍 ex. JPG 파일 압축률을 90퍼센트로 지정하고 싶다면 [cv2.IMWRITE_JPEG_QUALITY, 90] wlwjd\n",
    "# retval : 정상적으로 저장하면 True, 실패하면 False"
   ]
  },
  {
   "cell_type": "code",
   "execution_count": null,
   "metadata": {},
   "outputs": [],
   "source": []
  }
 ],
 "metadata": {
  "kernelspec": {
   "display_name": "Python 3",
   "language": "python",
   "name": "python3"
  },
  "language_info": {
   "codemirror_mode": {
    "name": "ipython",
    "version": 3
   },
   "file_extension": ".py",
   "mimetype": "text/x-python",
   "name": "python",
   "nbconvert_exporter": "python",
   "pygments_lexer": "ipython3",
   "version": "3.7.6"
  }
 },
 "nbformat": 4,
 "nbformat_minor": 4
}
