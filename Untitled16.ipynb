{
  "nbformat": 4,
  "nbformat_minor": 0,
  "metadata": {
    "colab": {
      "name": "Untitled16.ipynb",
      "provenance": [],
      "authorship_tag": "ABX9TyOWqTvpYfe5BjBvB6lBBW7Y",
      "include_colab_link": true
    },
    "kernelspec": {
      "name": "python3",
      "display_name": "Python 3"
    },
    "accelerator": "GPU"
  },
  "cells": [
    {
      "cell_type": "markdown",
      "metadata": {
        "id": "view-in-github",
        "colab_type": "text"
      },
      "source": [
        "<a href=\"https://colab.research.google.com/github/ejihoon6065/CV/blob/master/Untitled16.ipynb\" target=\"_parent\"><img src=\"https://colab.research.google.com/assets/colab-badge.svg\" alt=\"Open In Colab\"/></a>"
      ]
    },
    {
      "cell_type": "markdown",
      "metadata": {
        "id": "uVX0ZItCsSGY",
        "colab_type": "text"
      },
      "source": [
        "우선, 연예인 얼굴 이미지가 필요하니 네이버에서 연예인들 이미지를 다운로드하도록 한다.\n",
        "\n",
        "일일이 받아도 되나, 우리는 이미 파이썬을 다룰 줄 알고, 크롤링을 할 줄 알기 때문에, 코드로 구현해보자.\n",
        "\n",
        " \n",
        "\n",
        "내가 만든 이미지 다운 크롤링은 다음과 같다.\n",
        "\n",
        "케라스 수업이 이기에, 코드를 복사 붙여 넣기 해서 사용하기를 추천한다."
      ]
    },
    {
      "cell_type": "code",
      "metadata": {
        "id": "B6B2-7kUsJNg",
        "colab_type": "code",
        "colab": {
          "base_uri": "https://localhost:8080/",
          "height": 142
        },
        "outputId": "2f214470-9f90-4c83-d196-847488b937fd"
      },
      "source": [
        "from urllib.request import urlopen\n",
        "from bs4 import BeautifulSoup as bs\n",
        "from urllib.parse import quote_plus\n",
        "import os\n",
        "\n",
        "naver_img_url = \"https://search.naver.com/search.naver?where=image&sm=tab_jum&query=\"\n",
        "actors = [\"강동원\", \"원빈\", \"블랙핑크 지수\"]\n",
        "for actor in actors :\n",
        "    print(f'{actor} 다운로드 시작')\n",
        "    url = naver_img_url + quote_plus(actor)\n",
        "    html = urlopen(url)\n",
        "    soup = bs(html, \"html.parser\")\n",
        "    img_all = soup.find_all(class_=\"_img\")\n",
        "    for i in range(len(img_all)):\n",
        "        imgUrl = img_all[i][\"data-source\"]\n",
        "        save_img_dir = f\"./img/{actor}\"\n",
        "        with urlopen(imgUrl) as f:\n",
        "            try:\n",
        "                if not os.path.exists(save_img_dir) :\n",
        "                    os.makedirs(save_img_dir)\n",
        "            except OSError as e:\n",
        "                print(e)\n",
        "            with open(f\"{save_img_dir}/{actor}_{i}.jpg\",\"wb\") as h:\n",
        "                img = f.read()\n",
        "                h.write(img)\n",
        "    print(actor, \"다운로드 완료\")"
      ],
      "execution_count": 1,
      "outputs": [
        {
          "output_type": "stream",
          "text": [
            "강동원 다운로드 시작\n",
            "강동원 다운로드 완료\n",
            "원빈 다운로드 시작\n",
            "원빈 다운로드 완료\n",
            "블랙핑크 지수 다운로드 시작\n",
            "블랙핑크 지수 다운로드 완료\n"
          ],
          "name": "stdout"
        }
      ]
    },
    {
      "cell_type": "markdown",
      "metadata": {
        "id": "oESXxixAs7uU",
        "colab_type": "text"
      },
      "source": [
        "actors 변수에 내가 생각나는 연예인들의 이름을 나열했다. 샘플을 만들 것이기 때문에 일부만 사용했다.\n",
        "\n",
        "여러분들이 코드를 구현한다면, 여러분들이 좋아하는 연예인 이름을 나열하면 된다.\n",
        "\n",
        "이미지 다운로드는, 현재 돌아가는 파이썬 폴더 경로에, 새로운 img 폴더를 만들고, 연예인 폴더를 만들고, 연예인명_번호.jpg로 저장시켜두게 하였다. \n",
        "\n",
        " \n",
        "\n",
        "또한, 네이버 image에서 이미지에서 한 화면에서 50개까지밖에 출력되지 않기 때문에, 더 많은 사진을 갖고 싶으신 분들은, 셀리늄 스크롤바 내리기를 추가하면 된다. 하지만 저는 30~50개면 충분하고 차라리 연예인들 이름을 더 추가하는 게 맞다고 생각이 들어서, 생략!\n",
        "\n",
        "(가끔, 동명이인의 이름을 가진 사람이 다운로드하여지기도 하는데, 알아서 삭제하면 됨.)\n",
        "\n",
        " \n",
        "\n",
        "다운 완료된 강동원 님의 이미지를 확인해보자.\n",
        "\n",
        "진짜 잘생기셨다.\n",
        "\n",
        "만약 우리는 이 사진을 그대로 사용하게 된다면, 이미지 학습 시 강동원 님의 옷과 배경까지도 학습을 하게 될 것이기 때문에...\n",
        "\n",
        "우리는 강동원 님의 얼굴만을 따올 것이다."
      ]
    },
    {
      "cell_type": "markdown",
      "metadata": {
        "id": "y08Ekx29tOFx",
        "colab_type": "text"
      },
      "source": [
        "그렇다. 우리는 OpenCv를 다뤄봤다. OpenCV를 통해서 강동원 님의 얼굴만을 따오겠다.\n",
        "\n",
        " \n",
        "\n",
        "쉽게 얼굴을 검출하기 위해, 하나의 xml 파일이 필요한데.. 바로..\n",
        "\n",
        "haarcascade_frontalface_alt.xml\n",
        "\n",
        "의 xml 파일이 필요하다. opencv에서 제공해주는 공식 xml 문서이며... 밑에 경로에서 직접 받아도 되나,\n",
        "\n",
        "더 밑에 보시면, 바로 다운로드가 가능하게 파일을 올려두었다!\n",
        "\n",
        " \n",
        "\n",
        "github.com/opencv/opencv/tree/master/data/haarcascades"
      ]
    },
    {
      "cell_type": "markdown",
      "metadata": {
        "id": "r9e-h3O8tVKw",
        "colab_type": "text"
      },
      "source": [
        "파일을 다운로드했으면, 현재 프로그램하는 경로에 붙여 넣으면 된다.\n",
        "\n",
        "그럼 이렇게 모듈을 불러주고, face_cascade 변수에 우리가 받은 파일을 불러온다!"
      ]
    },
    {
      "cell_type": "code",
      "metadata": {
        "id": "8Tym9w9WsWQ4",
        "colab_type": "code",
        "colab": {}
      },
      "source": [
        "import numpy as np\n",
        "import cv2\n",
        "import os\n",
        "face_cascade = cv2.CascadeClassifier(\"haarcascade_frontalface_alt.xml\")\n"
      ],
      "execution_count": 2,
      "outputs": []
    },
    {
      "cell_type": "markdown",
      "metadata": {
        "id": "lByrbz-itf8I",
        "colab_type": "text"
      },
      "source": [
        "\n",
        "이전에, 저장받은 파일 경로에 한글을 사용하였기 때문에, imread 함수를 사용하려다 보니\n",
        "\n",
        "- error: (-215:Assertion failed) VScn::contains(scn) && VDcn::contains(dcn) && VDepth::contains(depth) in function 'cv::CvtHelper<struct cv::Set<3,4,-1>,struct cv::Set<1,-1,-1>,struct cv::Set<0,2,5>,2>::CvtHelper'"
      ]
    },
    {
      "cell_type": "markdown",
      "metadata": {
        "id": "EEfExbXJtk1i",
        "colab_type": "text"
      },
      "source": [
        "다음과 같은 에러가 계속 났다.\n",
        "\n",
        "(물론 모든 파일명을, 영어로 수정해서 사용하면 되나, 위에 코드 수정하기 귀찮아서, imread 함수에서 한글을 지원하는 새로운 imread function을 만들었다.)"
      ]
    },
    {
      "cell_type": "code",
      "metadata": {
        "id": "XsozenOytiHq",
        "colab_type": "code",
        "colab": {}
      },
      "source": [
        "def imread_korean(path):\n",
        "    with open(path, \"rb\") as fp:\n",
        "        bytes = bytearray(fp.read())\n",
        "        numpy_array = np.asarray(bytes, dtype=np.uint8)\n",
        "    return cv2.imdecode(numpy_array, cv2.IMREAD_UNCHANGED)"
      ],
      "execution_count": 3,
      "outputs": []
    },
    {
      "cell_type": "markdown",
      "metadata": {
        "id": "2F_6G9OYtyjL",
        "colab_type": "text"
      },
      "source": [
        "이렇게 함수를 만들었으니, cv2.imread 함수 대신, imread_korean 함수를 사용할 것이다."
      ]
    },
    {
      "cell_type": "code",
      "metadata": {
        "id": "2JD_PpcEtwC0",
        "colab_type": "code",
        "colab": {}
      },
      "source": [
        "def save_face(actor) :\n",
        "    try :\n",
        "        file_count = len([name for name in os.listdir(f\"./img/{actor}/\") if os.path.isfile(os.path.join(f\"./img/{actor}/\", name))])\n",
        "        for i in range(file_count) :\n",
        "            save_img_dir = f\"./img/{actor}/{actor}_{i}.jpg\"\n",
        "            new_save_img_dir = f\"./img/{actor}_face\"\n",
        "            img = imread_korean(f\"{save_img_dir}\")\n",
        "            gray = cv2.cvtColor(img, cv2.COLOR_BGR2GRAY)\n",
        "            faces = face_cascade.detectMultiScale(gray, 1.3,5)\n",
        "    \n",
        "            for (x,y,w,h) in faces:\n",
        "                actor_face = img[y:y+h, x:x+w]\n",
        "                try:\n",
        "                    if not os.path.exists(new_save_img_dir) :\n",
        "                        os.makedirs(new_save_img_dir)\n",
        "                except OSError as e:\n",
        "                    print(e)\n",
        "                _, im_write_korean = cv2.imencode(\".jpg\", actor_face)\n",
        "                im_write_korean.tofile(f\"{new_save_img_dir}/{actor}_{i}.jpg\")\n",
        "    except :\n",
        "        pass"
      ],
      "execution_count": 4,
      "outputs": []
    },
    {
      "cell_type": "markdown",
      "metadata": {
        "id": "TgVTZGsQt2T2",
        "colab_type": "text"
      },
      "source": [
        "그럼, 다음과 같이 코드를 완성할 수 있을 것이고,"
      ]
    },
    {
      "cell_type": "code",
      "metadata": {
        "id": "aAzA3Xoht0Wl",
        "colab_type": "code",
        "colab": {}
      },
      "source": [
        "actors = [\"강동원\", \"원빈\", \"블랙핑크지수\"]\n",
        "for actor in actors :\n",
        "    save_face(actor)"
      ],
      "execution_count": 5,
      "outputs": []
    },
    {
      "cell_type": "markdown",
      "metadata": {
        "id": "eaYBDQnLt55F",
        "colab_type": "text"
      },
      "source": [
        "구현된 코드를 실행시키면....\n",
        "\n",
        " \n",
        "\n",
        "얼굴만 따온 파일은, 원본 파일과 다르게 정리를 해주기 위해서, 연예인_face라는 새로운 폴더에 저장하게 해 두었다.\n",
        "\n",
        " \n",
        "\n",
        "이렇게 해서 저장된 얼굴을 확인해 보자!"
      ]
    },
    {
      "cell_type": "markdown",
      "metadata": {
        "id": "qIMKYu8-t8go",
        "colab_type": "text"
      },
      "source": [
        "음... 얼굴만 잘 따온 것 같다.\n",
        "\n",
        "(가끔 모든 이미지가 잘 검출하지 않을 수도 있기 때문에, 확인 작업이 필요합니다. 하지만 저는 믿고 그냥 갑니다! 어차피 코드를 보면 아시겠지만, 얼굴 검출이 안되어지는 경우는 새로운 경로에 저장이 안 되기 때문... )\n",
        "\n",
        " \n",
        "\n",
        "우리는 인제 데이터 셋이 준비되었으니,\n",
        "\n",
        " \n",
        "\n",
        "남은 과정을 설명드리도록 하겠습니다.\n",
        "\n",
        "1. 변경된 사이즈 하나로 통일하기.\n",
        "\n",
        "2. 클래스 지정하기.\n",
        "\n",
        "3. 훈련/학습용 데이터 선별하기.\n",
        "\n",
        "4. RNN 코드 만들기 - 참고하기 (CIFAR-10)"
      ]
    },
    {
      "cell_type": "code",
      "metadata": {
        "id": "YPnBqbjBt33N",
        "colab_type": "code",
        "colab": {}
      },
      "source": [
        ""
      ],
      "execution_count": 5,
      "outputs": []
    }
  ]
}